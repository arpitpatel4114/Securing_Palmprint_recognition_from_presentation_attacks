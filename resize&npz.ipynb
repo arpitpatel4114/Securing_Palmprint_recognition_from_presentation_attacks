{
 "cells": [
  {
   "cell_type": "code",
   "execution_count": 1,
   "id": "0ced8948",
   "metadata": {},
   "outputs": [],
   "source": [
    "import numpy as np\n",
    "import cv2\n",
    "import os"
   ]
  },
  {
   "cell_type": "code",
   "execution_count": 2,
   "id": "c31e331d",
   "metadata": {},
   "outputs": [],
   "source": [
    "path=\"/Users/arpitpatel/Documents/BTP/model/IITD Palmprint V1/Segmented/Right\"\n",
    "i=0\n",
    "#os.mkdir(\"resized_images\")\n",
    "data=[]"
   ]
  },
  {
   "cell_type": "code",
   "execution_count": 3,
   "id": "c6fcf6f5",
   "metadata": {},
   "outputs": [],
   "source": [
    "for img in os.listdir(path):\n",
    "    img_array=cv2.imread(os.path.join(path,img), cv2.IMREAD_GRAYSCALE)\n",
    "    #resized=cv2.resize(img_array,(150,150))\n",
    "    data.append(img_array)\n",
    "    #cv2.imwrite(\"resized_images/image%i.jpg\" %i, resized)\n",
    "    #i+=1"
   ]
  },
  {
   "cell_type": "code",
   "execution_count": 4,
   "id": "ab7bce87",
   "metadata": {},
   "outputs": [
    {
     "name": "stdout",
     "output_type": "stream",
     "text": [
      "done\n"
     ]
    }
   ],
   "source": [
    "nparray=np.array(data)\n",
    "\n",
    "np.savez(\"npzfilere.npz\",nparray)\n",
    "print(\"done\")"
   ]
  },
  {
   "cell_type": "code",
   "execution_count": null,
   "id": "393861be",
   "metadata": {},
   "outputs": [],
   "source": []
  }
 ],
 "metadata": {
  "kernelspec": {
   "display_name": "Python 3 (ipykernel)",
   "language": "python",
   "name": "python3"
  },
  "language_info": {
   "codemirror_mode": {
    "name": "ipython",
    "version": 3
   },
   "file_extension": ".py",
   "mimetype": "text/x-python",
   "name": "python",
   "nbconvert_exporter": "python",
   "pygments_lexer": "ipython3",
   "version": "3.8.16"
  }
 },
 "nbformat": 4,
 "nbformat_minor": 5
}
